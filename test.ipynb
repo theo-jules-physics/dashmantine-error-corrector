{
 "cells": [
  {
   "cell_type": "code",
   "execution_count": null,
   "metadata": {},
   "outputs": [],
   "source": [
    "from doc_gatherer.doc_gatherer import DocGatherer\n",
    "from dmc_migrator.dmc_migrator import DmcMigrator\n",
    "\n",
    "migrator = DmcMigrator(repo_path=\"test_cases/current\").run()\n",
    "\n",
    "comp_list = migrator[\"components_used\"]\n",
    "comp_info_dict = {}\n",
    "old_version_doc_gatherer = DocGatherer(\"dmc_v0_12_1_env\")\n",
    "new_version_doc_gatherer = DocGatherer(\"dmc_v0_15_3_env\")\n",
    "\n",
    "for comp in comp_list:\n",
    "\n",
    "    comp_info_dict[comp] = {\n",
    "        \"doc\": {\n",
    "            \"old\": old_version_doc_gatherer.get_component_doc(comp),\n",
    "            \"new\": new_version_doc_gatherer.get_component_doc(comp),\n",
    "        },\n",
    "        \"signature\": {\n",
    "            \"old\": old_version_doc_gatherer.get_component_signature(comp),\n",
    "            \"new\": new_version_doc_gatherer.get_component_signature(comp),\n",
    "        },\n",
    "    }"
   ]
  },
  {
   "cell_type": "code",
   "execution_count": 2,
   "metadata": {},
   "outputs": [],
   "source": [
    "from dmc_migrator.dmc_migrator import DmcMigrator\n",
    "\n",
    "migrator = DmcMigrator(repo_path=\"test_cases/current\").run()"
   ]
  },
  {
   "cell_type": "code",
   "execution_count": null,
   "metadata": {},
   "outputs": [
    {
     "data": {
      "text/plain": [
       "{'file_count': 5,\n",
       " 'component_count': 7,\n",
       " 'components_used': ['Button',\n",
       "  'Col',\n",
       "  'Container',\n",
       "  'Grid',\n",
       "  'Stack',\n",
       "  'Switch',\n",
       "  'Text'],\n",
       " 'files': {'test_cases/current/test_case_5/test_case_5.py': {'Stack': [{'name': 'Stack',\n",
       "     'file_name': 'test_cases/current/test_case_5/test_case_5.py',\n",
       "     'line_limits': [4, 8],\n",
       "     'parameters': ['position', 'spacing', 'children']}],\n",
       "   'Text': [{'name': 'Text',\n",
       "     'file_name': 'test_cases/current/test_case_5/test_case_5.py',\n",
       "     'line_limits': [7, 7],\n",
       "     'parameters': [\"Constant(value='Stack Item 1')\"]},\n",
       "    {'name': 'Text',\n",
       "     'file_name': 'test_cases/current/test_case_5/test_case_5.py',\n",
       "     'line_limits': [7, 7],\n",
       "     'parameters': [\"Constant(value='Stack Item 2')\"]}]},\n",
       "  'test_cases/current/test_case_2/test_case_2.py': {'Button': [{'name': 'Button',\n",
       "     'file_name': 'test_cases/current/test_case_2/test_case_2.py',\n",
       "     'line_limits': [4, 4],\n",
       "     'parameters': [\"Constant(value='Click me')\", 'leftIcon', 'rightIcon']}]},\n",
       "  'test_cases/current/test_case_3/test_case_3.py': {'Grid': [{'name': 'Grid',\n",
       "     'file_name': 'test_cases/current/test_case_3/test_case_3.py',\n",
       "     'line_limits': [4, 7],\n",
       "     'parameters': [\"List(elts=[Call(func=Attribute(value=Name(id='dmc', ctx=Load()), attr='Col', ctx=Load()), args=[], keywords=[keyword(arg='span', value=Constant(value=4)), keyword(arg='children', value=Call(func=Attribute(value=Name(id='dmc', ctx=Load()), attr='Text', ctx=Load()), args=[Constant(value='Column 1')], keywords=[]))]), Call(func=Attribute(value=Name(id='dmc', ctx=Load()), attr='Col', ctx=Load()), args=[], keywords=[keyword(arg='span', value=Constant(value=8)), keyword(arg='children', value=Call(func=Attribute(value=Name(id='dmc', ctx=Load()), attr='Text', ctx=Load()), args=[Constant(value='Column 2')], keywords=[]))])], ctx=Load())\"]}],\n",
       "   'Col': [{'name': 'Col',\n",
       "     'file_name': 'test_cases/current/test_case_3/test_case_3.py',\n",
       "     'line_limits': [5, 5],\n",
       "     'parameters': ['span', 'children']},\n",
       "    {'name': 'Col',\n",
       "     'file_name': 'test_cases/current/test_case_3/test_case_3.py',\n",
       "     'line_limits': [6, 6],\n",
       "     'parameters': ['span', 'children']}],\n",
       "   'Text': [{'name': 'Text',\n",
       "     'file_name': 'test_cases/current/test_case_3/test_case_3.py',\n",
       "     'line_limits': [5, 5],\n",
       "     'parameters': [\"Constant(value='Column 1')\"]},\n",
       "    {'name': 'Text',\n",
       "     'file_name': 'test_cases/current/test_case_3/test_case_3.py',\n",
       "     'line_limits': [6, 6],\n",
       "     'parameters': [\"Constant(value='Column 2')\"]}]},\n",
       "  'test_cases/current/test_case_4/test_case_4.py': {'Stack': [{'name': 'Stack',\n",
       "     'file_name': 'test_cases/current/test_case_4/test_case_4.py',\n",
       "     'line_limits': [4, 8],\n",
       "     'parameters': ['position', 'spacing', 'children']}],\n",
       "   'Text': [{'name': 'Text',\n",
       "     'file_name': 'test_cases/current/test_case_4/test_case_4.py',\n",
       "     'line_limits': [7, 7],\n",
       "     'parameters': [\"Constant(value='Stack Item 1')\"]},\n",
       "    {'name': 'Text',\n",
       "     'file_name': 'test_cases/current/test_case_4/test_case_4.py',\n",
       "     'line_limits': [7, 7],\n",
       "     'parameters': [\"Constant(value='Stack Item 2')\"]}]},\n",
       "  'test_cases/current/test_case_1/test_case_1.py': {'Container': [{'name': 'Container',\n",
       "     'file_name': 'test_cases/current/test_case_1/test_case_1.py',\n",
       "     'line_limits': [6, 8],\n",
       "     'parameters': [\"List(elts=[Call(func=Attribute(value=Name(id='dmc', ctx=Load()), attr='Switch', ctx=Load()), args=[], keywords=[keyword(arg='label', value=Constant(value='Enable feature'))])], ctx=Load())\"]}],\n",
       "   'Switch': [{'name': 'Switch',\n",
       "     'file_name': 'test_cases/current/test_case_1/test_case_1.py',\n",
       "     'line_limits': [7, 7],\n",
       "     'parameters': ['label']}]}}}"
      ]
     },
     "execution_count": 3,
     "metadata": {},
     "output_type": "execute_result"
    }
   ],
   "source": [
    "migrator[]"
   ]
  }
 ],
 "metadata": {
  "kernelspec": {
   "display_name": "dash-app",
   "language": "python",
   "name": "python3"
  },
  "language_info": {
   "codemirror_mode": {
    "name": "ipython",
    "version": 3
   },
   "file_extension": ".py",
   "mimetype": "text/x-python",
   "name": "python",
   "nbconvert_exporter": "python",
   "pygments_lexer": "ipython3",
   "version": "3.12.0"
  }
 },
 "nbformat": 4,
 "nbformat_minor": 2
}
