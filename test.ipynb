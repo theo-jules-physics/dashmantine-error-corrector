{
 "cells": [
  {
   "cell_type": "code",
   "execution_count": null,
   "metadata": {},
   "outputs": [],
   "source": [
    "from dashmantine_version_setup import setup_environments\n",
    "\n",
    "package_name = \"dash-mantine-components\"\n",
    "mandatory_packages = [\"dash\"]\n",
    "versions = [\"0.12.1\", \"0.15.3\"]\n",
    "\n",
    "setup_environments(package_name, versions, mandatory_packages)"
   ]
  },
  {
   "cell_type": "code",
   "execution_count": 2,
   "metadata": {},
   "outputs": [
    {
     "ename": "TypeError",
     "evalue": "ComponentInfo.__init__() got an unexpected keyword argument 'content'",
     "output_type": "error",
     "traceback": [
      "\u001b[31m---------------------------------------------------------------------------\u001b[39m",
      "\u001b[31mTypeError\u001b[39m                                 Traceback (most recent call last)",
      "\u001b[36mCell\u001b[39m\u001b[36m \u001b[39m\u001b[32mIn[2]\u001b[39m\u001b[32m, line 16\u001b[39m\n\u001b[32m     13\u001b[39m new_version_doc_gatherer = DocGatherer(new_env_name)\n\u001b[32m     15\u001b[39m error_detector = NewVersionErrorDetector(new_env_name)\n\u001b[32m---> \u001b[39m\u001b[32m16\u001b[39m component_list = \u001b[43mDmcMigrator\u001b[49m\u001b[43m(\u001b[49m\u001b[43mrepo_path\u001b[49m\u001b[43m=\u001b[49m\u001b[33;43m\"\u001b[39;49m\u001b[33;43mtest_cases/current\u001b[39;49m\u001b[33;43m\"\u001b[39;49m\u001b[43m)\u001b[49m\u001b[43m.\u001b[49m\u001b[43mrun\u001b[49m\u001b[43m(\u001b[49m\u001b[43m)\u001b[49m\n",
      "\u001b[36mFile \u001b[39m\u001b[32m~/Git/dashmantine-error-corrector/dmc_migrator/dmc_migrator.py:69\u001b[39m, in \u001b[36mDmcMigrator.run\u001b[39m\u001b[34m(self)\u001b[39m\n\u001b[32m     65\u001b[39m \u001b[38;5;28;01mdef\u001b[39;00m\u001b[38;5;250m \u001b[39m\u001b[34mrun\u001b[39m(\u001b[38;5;28mself\u001b[39m):\n\u001b[32m     66\u001b[39m \u001b[38;5;250m    \u001b[39m\u001b[33;03m\"\"\"\u001b[39;00m\n\u001b[32m     67\u001b[39m \u001b[33;03m    Run the migration process\u001b[39;00m\n\u001b[32m     68\u001b[39m \u001b[33;03m    \"\"\"\u001b[39;00m\n\u001b[32m---> \u001b[39m\u001b[32m69\u001b[39m     \u001b[38;5;28;43mself\u001b[39;49m\u001b[43m.\u001b[49m\u001b[43mdetect_dmc_usage\u001b[49m\u001b[43m(\u001b[49m\u001b[43m)\u001b[49m\n\u001b[32m     71\u001b[39m     \u001b[38;5;28;01mreturn\u001b[39;00m \u001b[38;5;28mself\u001b[39m.get_usage_summary()\n",
      "\u001b[36mFile \u001b[39m\u001b[32m~/Git/dashmantine-error-corrector/dmc_migrator/dmc_migrator.py:51\u001b[39m, in \u001b[36mDmcMigrator.detect_dmc_usage\u001b[39m\u001b[34m(self)\u001b[39m\n\u001b[32m     48\u001b[39m \u001b[38;5;28;01mdef\u001b[39;00m\u001b[38;5;250m \u001b[39m\u001b[34mdetect_dmc_usage\u001b[39m(\u001b[38;5;28mself\u001b[39m):\n\u001b[32m     50\u001b[39m     \u001b[38;5;28mself\u001b[39m.usage_detector = DMCUsageDetector(\u001b[38;5;28mself\u001b[39m.repo_path)\n\u001b[32m---> \u001b[39m\u001b[32m51\u001b[39m     \u001b[38;5;28;43mself\u001b[39;49m\u001b[43m.\u001b[49m\u001b[43musage_detector\u001b[49m\u001b[43m.\u001b[49m\u001b[43mrun\u001b[49m\u001b[43m(\u001b[49m\u001b[43m)\u001b[49m\n\u001b[32m     52\u001b[39m     \u001b[38;5;28mself\u001b[39m.usage_results = \u001b[38;5;28mself\u001b[39m.usage_detector.results\n\u001b[32m     54\u001b[39m     \u001b[38;5;28;01mreturn\u001b[39;00m \u001b[38;5;28mself\u001b[39m.usage_results\n",
      "\u001b[36mFile \u001b[39m\u001b[32m~/Git/dashmantine-error-corrector/dmc_migrator/package_usage_detector.py:129\u001b[39m, in \u001b[36mDMCUsageDetector.run\u001b[39m\u001b[34m(self)\u001b[39m\n\u001b[32m    125\u001b[39m \u001b[38;5;28;01mdef\u001b[39;00m\u001b[38;5;250m \u001b[39m\u001b[34mrun\u001b[39m(\u001b[38;5;28mself\u001b[39m):\n\u001b[32m    126\u001b[39m     logger.info(\n\u001b[32m    127\u001b[39m         \u001b[33mf\u001b[39m\u001b[33m\"\u001b[39m\u001b[33mScanning files in \u001b[39m\u001b[38;5;132;01m{\u001b[39;00m\u001b[38;5;28mself\u001b[39m.root_dir\u001b[38;5;132;01m}\u001b[39;00m\u001b[33m for \u001b[39m\u001b[38;5;132;01m{\u001b[39;00m\u001b[38;5;28mself\u001b[39m.target_package\u001b[38;5;132;01m}\u001b[39;00m\u001b[33m usage.\u001b[39m\u001b[33m\"\u001b[39m\n\u001b[32m    128\u001b[39m     )\n\u001b[32m--> \u001b[39m\u001b[32m129\u001b[39m     \u001b[38;5;28;43mself\u001b[39;49m\u001b[43m.\u001b[49m\u001b[43mscan_files\u001b[49m\u001b[43m(\u001b[49m\u001b[43m)\u001b[49m\n\u001b[32m    130\u001b[39m     logger.info(\n\u001b[32m    131\u001b[39m         \u001b[33mf\u001b[39m\u001b[33m\"\u001b[39m\u001b[33mScan complete. Found \u001b[39m\u001b[38;5;132;01m{\u001b[39;00m\u001b[38;5;28mlen\u001b[39m(\u001b[38;5;28mself\u001b[39m.results)\u001b[38;5;132;01m}\u001b[39;00m\u001b[33m files with \u001b[39m\u001b[38;5;132;01m{\u001b[39;00m\u001b[38;5;28mself\u001b[39m.target_package\u001b[38;5;132;01m}\u001b[39;00m\u001b[33m usage.\u001b[39m\u001b[33m\"\u001b[39m\n\u001b[32m    132\u001b[39m     )\n",
      "\u001b[36mFile \u001b[39m\u001b[32m~/Git/dashmantine-error-corrector/dmc_migrator/package_usage_detector.py:54\u001b[39m, in \u001b[36mDMCUsageDetector.scan_files\u001b[39m\u001b[34m(self)\u001b[39m\n\u001b[32m     52\u001b[39m \u001b[38;5;28;01mfor\u001b[39;00m file \u001b[38;5;129;01min\u001b[39;00m files:\n\u001b[32m     53\u001b[39m     \u001b[38;5;28;01mif\u001b[39;00m file.endswith(\u001b[33m\"\u001b[39m\u001b[33m.py\u001b[39m\u001b[33m\"\u001b[39m):\n\u001b[32m---> \u001b[39m\u001b[32m54\u001b[39m         \u001b[38;5;28;43mself\u001b[39;49m\u001b[43m.\u001b[49m\u001b[43m_analyze_file\u001b[49m\u001b[43m(\u001b[49m\u001b[43mos\u001b[49m\u001b[43m.\u001b[49m\u001b[43mpath\u001b[49m\u001b[43m.\u001b[49m\u001b[43mjoin\u001b[49m\u001b[43m(\u001b[49m\u001b[43msubdir\u001b[49m\u001b[43m,\u001b[49m\u001b[43m \u001b[49m\u001b[43mfile\u001b[49m\u001b[43m)\u001b[49m\u001b[43m)\u001b[49m\n",
      "\u001b[36mFile \u001b[39m\u001b[32m~/Git/dashmantine-error-corrector/dmc_migrator/package_usage_detector.py:93\u001b[39m, in \u001b[36mDMCUsageDetector._analyze_file\u001b[39m\u001b[34m(self, file_path)\u001b[39m\n\u001b[32m     88\u001b[39m content = (\u001b[33m'\u001b[39m\u001b[38;5;130;01m\\n\u001b[39;00m\u001b[33m'\u001b[39m).join(file_lines[start_line-\u001b[32m1\u001b[39m:end_line])\n\u001b[32m     90\u001b[39m parameters = \u001b[38;5;28mself\u001b[39m._extract_parameters(node)\n\u001b[32m     92\u001b[39m \u001b[38;5;28mself\u001b[39m.results.append(\n\u001b[32m---> \u001b[39m\u001b[32m93\u001b[39m     \u001b[43mComponentInfo\u001b[49m\u001b[43m(\u001b[49m\n\u001b[32m     94\u001b[39m \u001b[43m        \u001b[49m\u001b[43mname\u001b[49m\u001b[43m=\u001b[49m\u001b[43mcomponent_name\u001b[49m\u001b[43m,\u001b[49m\n\u001b[32m     95\u001b[39m \u001b[43m        \u001b[49m\u001b[43mfile_name\u001b[49m\u001b[43m=\u001b[49m\u001b[43mfile_path\u001b[49m\u001b[43m,\u001b[49m\n\u001b[32m     96\u001b[39m \u001b[43m        \u001b[49m\u001b[43mline_limits\u001b[49m\u001b[43m=\u001b[49m\u001b[43m[\u001b[49m\u001b[43mstart_line\u001b[49m\u001b[43m,\u001b[49m\u001b[43m \u001b[49m\u001b[43mend_line\u001b[49m\u001b[43m]\u001b[49m\u001b[43m,\u001b[49m\n\u001b[32m     97\u001b[39m \u001b[43m        \u001b[49m\u001b[43mcontent\u001b[49m\u001b[43m=\u001b[49m\u001b[43mcontent\u001b[49m\u001b[43m,\u001b[49m\n\u001b[32m     98\u001b[39m \u001b[43m        \u001b[49m\u001b[43mparameters\u001b[49m\u001b[43m=\u001b[49m\u001b[43mparameters\u001b[49m\u001b[43m,\u001b[49m\n\u001b[32m     99\u001b[39m \u001b[43m    \u001b[49m\u001b[43m)\u001b[49m\n\u001b[32m    100\u001b[39m )\n",
      "\u001b[31mTypeError\u001b[39m: ComponentInfo.__init__() got an unexpected keyword argument 'content'"
     ]
    }
   ],
   "source": [
    "from doc_gatherer.doc_gatherer import DocGatherer\n",
    "from dmc_migrator.dmc_migrator import DmcMigrator\n",
    "from error_detection.error_detector import NewVersionErrorDetector\n",
    "\n",
    "package_name = \"dash-mantine-components\"\n",
    "mandatory_packages = [\"dash\"]\n",
    "versions = [\"0.12.1\", \"0.15.3\"]\n",
    "\n",
    "old_env_name = f\"{package_name}_v{versions[0].replace('.', '_')}_env\"\n",
    "new_env_name = f\"{package_name}_v{versions[1].replace('.', '_')}_env\"\n",
    "\n",
    "old_version_doc_gatherer = DocGatherer(old_env_name)\n",
    "new_version_doc_gatherer = DocGatherer(new_env_name)\n",
    "\n",
    "error_detector = NewVersionErrorDetector(new_env_name)\n",
    "component_list = DmcMigrator(repo_path=\"test_cases/current\").run()"
   ]
  },
  {
   "cell_type": "code",
   "execution_count": null,
   "metadata": {},
   "outputs": [],
   "source": [
    "print(component_list[0].line_content)"
   ]
  },
  {
   "cell_type": "code",
   "execution_count": null,
   "metadata": {},
   "outputs": [],
   "source": [
    "for component in component_list:\n",
    "    error_detector.detect_error_component(component)\n",
    "\n",
    "component_with_error = []\n",
    "for component in component_list:\n",
    "    if component.errors[\"count\"] > 0:\n",
    "        component_with_error.append(component)\n",
    "\n",
    "unique_components = set(component.name for component in component_list)\n",
    "comp_info_dict = {}\n",
    "\n",
    "\n",
    "for comp in unique_components:\n",
    "\n",
    "    comp_info_dict[comp] = {\n",
    "        \"doc\": {\n",
    "            \"old\": old_version_doc_gatherer.get_component_doc(comp),\n",
    "            \"new\": new_version_doc_gatherer.get_component_doc(comp),\n",
    "        },\n",
    "        \"signature\": {\n",
    "            \"old\": old_version_doc_gatherer.get_component_signature(comp),\n",
    "            \"new\": new_version_doc_gatherer.get_component_signature(comp),\n",
    "        },\n",
    "    }\n",
    "    \n",
    "for component in component_with_error:\n",
    "    if component.errors[\"count\"] > 0:\n",
    "        component.documentation = comp_info_dict[component.name][\"doc\"]\n",
    "        component.signature = comp_info_dict[component.name][\"signature\"]"
   ]
  },
  {
   "cell_type": "code",
   "execution_count": null,
   "metadata": {},
   "outputs": [],
   "source": [
    "comp_info_dict"
   ]
  }
 ],
 "metadata": {
  "kernelspec": {
   "display_name": "dash-app",
   "language": "python",
   "name": "python3"
  },
  "language_info": {
   "codemirror_mode": {
    "name": "ipython",
    "version": 3
   },
   "file_extension": ".py",
   "mimetype": "text/x-python",
   "name": "python",
   "nbconvert_exporter": "python",
   "pygments_lexer": "ipython3",
   "version": "3.12.0"
  }
 },
 "nbformat": 4,
 "nbformat_minor": 2
}
