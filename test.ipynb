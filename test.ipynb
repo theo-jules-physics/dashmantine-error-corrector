{
 "cells": [
  {
   "cell_type": "code",
   "execution_count": null,
   "metadata": {},
   "outputs": [],
   "source": [
    "from dashmantine_version_setup import setup_environments\n",
    "\n",
    "package_name = \"dash-mantine-components\"\n",
    "mandatory_packages = [\"dash\"]\n",
    "versions = [\"0.12.1\", \"0.15.3\"]\n",
    "\n",
    "setup_environments(package_name, versions, mandatory_packages)"
   ]
  },
  {
   "cell_type": "code",
   "execution_count": null,
   "metadata": {},
   "outputs": [],
   "source": [
    "from doc_gatherer.doc_gatherer import DocGatherer\n",
    "from dmc_migrator.dmc_migrator import DmcMigrator\n",
    "from error_detection.error_detector import NewVersionErrorDetector\n",
    "\n",
    "old_env_name = f\"{package_name}_v{versions[0].replace('.', '_')}_env\"\n",
    "new_env_name = f\"{package_name}_v{versions[1].replace('.', '_')}_env\"\n",
    "\n",
    "old_version_doc_gatherer = DocGatherer(old_env_name)\n",
    "new_version_doc_gatherer = DocGatherer(new_env_name)\n",
    "\n",
    "error_detector = NewVersionErrorDetector(new_env_name)\n",
    "component_list = DmcMigrator(repo_path=\"test_cases/current\").run()"
   ]
  },
  {
   "cell_type": "code",
   "execution_count": null,
   "metadata": {},
   "outputs": [],
   "source": [
    "for component in component_list:\n",
    "    error_detector.detect_error_component(component)\n",
    "\n",
    "component_with_error = []\n",
    "for component in component_list:\n",
    "    if component.errors[\"count\"] > 0:\n",
    "        component_with_error.append(component)\n",
    "\n",
    "unique_components = set(component.name for component in component_list)\n",
    "comp_info_dict = {}\n",
    "\n",
    "\n",
    "for comp in unique_components:\n",
    "\n",
    "    comp_info_dict[comp] = {\n",
    "        \"doc\": {\n",
    "            \"old\": old_version_doc_gatherer.get_component_doc(comp),\n",
    "            \"new\": new_version_doc_gatherer.get_component_doc(comp),\n",
    "        },\n",
    "        \"signature\": {\n",
    "            \"old\": old_version_doc_gatherer.get_component_signature(comp),\n",
    "            \"new\": new_version_doc_gatherer.get_component_signature(comp),\n",
    "        },\n",
    "    }\n",
    "    \n",
    "for component in component_with_error:\n",
    "    if component.errors[\"count\"] > 0:\n",
    "        component.documentation = comp_info_dict[component.name][\"doc\"]\n",
    "        component.signature = comp_info_dict[component.name][\"signature\"]"
   ]
  },
  {
   "cell_type": "code",
   "execution_count": null,
   "metadata": {},
   "outputs": [],
   "source": [
    "component_with_error"
   ]
  },
  {
   "cell_type": "code",
   "execution_count": null,
   "metadata": {},
   "outputs": [],
   "source": [
    "component_with_error[0].documentation"
   ]
  },
  {
   "cell_type": "code",
   "execution_count": null,
   "metadata": {},
   "outputs": [],
   "source": []
  }
 ],
 "metadata": {
  "kernelspec": {
   "display_name": "dash-app",
   "language": "python",
   "name": "python3"
  },
  "language_info": {
   "codemirror_mode": {
    "name": "ipython",
    "version": 3
   },
   "file_extension": ".py",
   "mimetype": "text/x-python",
   "name": "python",
   "nbconvert_exporter": "python",
   "pygments_lexer": "ipython3",
   "version": "3.12.0"
  }
 },
 "nbformat": 4,
 "nbformat_minor": 2
}
