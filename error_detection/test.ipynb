{
 "cells": [
  {
   "cell_type": "code",
   "execution_count": null,
   "metadata": {},
   "outputs": [
    {
     "data": {
      "text/plain": [
       "False"
      ]
     },
     "execution_count": 7,
     "metadata": {},
     "output_type": "execute_result"
    }
   ],
   "source": [
    "import dash_mantine_components as dmc\n",
    "from inspect import signature, getdoc\n",
    "\n",
    "hasattr(dmc, \"NOT_EXISTING_COMPONENT\")"
   ]
  },
  {
   "cell_type": "code",
   "execution_count": 5,
   "metadata": {},
   "outputs": [],
   "source": [
    "sig = signature(getattr(dmc, \"Button\"))"
   ]
  },
  {
   "cell_type": "code",
   "execution_count": null,
   "metadata": {},
   "outputs": [
    {
     "data": {
      "text/plain": [
       "odict_keys(['children', 'size', 'type', 'color', 'leftIcon', 'rightIcon', 'fullWidth', 'radius', 'variant', 'gradient', 'uppercase', 'compact', 'loading', 'loaderProps', 'loaderPosition', 'disabled', 'n_clicks', 'className', 'classNames', 'style', 'styles', 'id', 'unstyled', 'sx', 'm', 'my', 'mx', 'mt', 'mb', 'ml', 'mr', 'p', 'py', 'px', 'pt', 'pb', 'pl', 'pr', 'bg', 'c', 'opacity', 'ff', 'fz', 'fw', 'lts', 'ta', 'lh', 'fs', 'tt', 'td', 'w', 'miw', 'maw', 'h', 'mih', 'mah', 'bgsz', 'bgp', 'bgr', 'pos', 'top', 'left', 'bottom', 'right', 'inset', 'display', 'kwargs'])"
      ]
     },
     "execution_count": 10,
     "metadata": {},
     "output_type": "execute_result"
    }
   ],
   "source": [
    ")"
   ]
  },
  {
   "cell_type": "code",
   "execution_count": 9,
   "metadata": {},
   "outputs": [
    {
     "name": "stdout",
     "output_type": "stream",
     "text": [
      "A Button component.\n",
      "Render button or link with button styles from mantine theme. For more information, see: https://mantine.dev/core/button/\n",
      "\n",
      "Keyword arguments:\n",
      "\n",
      "- children (a list of or a singular dash component, string or number; optional):\n",
      "    Button label.\n",
      "\n",
      "- id (string; optional):\n",
      "    Unique ID to identify this component in Dash callbacks.\n",
      "\n",
      "- className (string; optional):\n",
      "    Often used with CSS to style elements with common properties.\n",
      "\n",
      "- classNames (dict; optional):\n",
      "    add class names to Mantine components.\n",
      "\n",
      "- color (boolean | number | string | dict | list; optional):\n",
      "    Button color from theme.\n",
      "\n",
      "- compact (boolean; optional):\n",
      "    Reduces vertical and horizontal spacing.\n",
      "\n",
      "- disabled (boolean; optional):\n",
      "    Disabled state.\n",
      "\n",
      "- fullWidth (boolean; optional):\n",
      "    Sets button width to 100% of parent element.\n",
      "\n",
      "- gradient (dict; optional):\n",
      "    Controls gradient settings in gradient variant only.\n",
      "\n",
      "    `gradient` is a dict with keys:\n",
      "\n",
      "    - deg (number; optional)\n",
      "\n",
      "    - from (string; required)\n",
      "\n",
      "    - to (string; required)\n",
      "\n",
      "- leftIcon (a list of or a singular dash component, string or number; optional):\n",
      "    Adds icon before button label.\n",
      "\n",
      "- loaderPosition (a value equal to: 'left', 'right', 'center'; optional):\n",
      "    Loader position relative to button label.\n",
      "\n",
      "- loaderProps (dict; optional):\n",
      "    Props spread to Loader component.\n",
      "\n",
      "    `loaderProps` is a dict with keys:\n",
      "\n",
      "    - color (boolean | number | string | dict | list; optional):\n",
      "        Loader color from theme.\n",
      "\n",
      "    - size (number; optional):\n",
      "        Defines width of loader.\n",
      "\n",
      "    - variant (a value equal to: 'bars', 'oval', 'dots'; optional):\n",
      "        Loader appearance.\n",
      "\n",
      "- loading (boolean; optional):\n",
      "    Indicate loading state.\n",
      "\n",
      "- n_clicks (number; default 0):\n",
      "    An integer that represents the number of times that this element\n",
      "    has been clicked on.\n",
      "\n",
      "- radius (number; optional):\n",
      "    Button border-radius from theme or number to set border-radius in\n",
      "    px.\n",
      "\n",
      "- rightIcon (a list of or a singular dash component, string or number; optional):\n",
      "    Adds icon after button label.\n",
      "\n",
      "- size (a value equal to: 'xs', 'sm', 'md', 'lg', 'xl'; optional):\n",
      "    Predefined button size.\n",
      "\n",
      "- style (boolean | number | string | dict | list; optional):\n",
      "    Inline style.\n",
      "\n",
      "- styles (boolean | number | string | dict | list; optional):\n",
      "    Mantine styles API.\n",
      "\n",
      "- sx (boolean | number | string | dict | list; optional):\n",
      "    With sx you can add styles to component root element. If you need\n",
      "    to customize styles of other elements within component use styles\n",
      "    prop.\n",
      "\n",
      "- type (a value equal to: 'submit', 'button', 'reset'; optional):\n",
      "    Button type attribute.\n",
      "\n",
      "- uppercase (boolean; optional):\n",
      "    Set text-transform to uppercase.\n",
      "\n",
      "- variant (a value equal to: 'filled', 'outline', 'light', 'white', 'default', 'subtle', 'gradient'; optional):\n",
      "    Controls button appearance.\n"
     ]
    }
   ],
   "source": [
    "print(getdoc(getattr(dmc, \"Button\")))"
   ]
  }
 ],
 "metadata": {
  "kernelspec": {
   "display_name": "dash-app",
   "language": "python",
   "name": "python3"
  },
  "language_info": {
   "codemirror_mode": {
    "name": "ipython",
    "version": 3
   },
   "file_extension": ".py",
   "mimetype": "text/x-python",
   "name": "python",
   "nbconvert_exporter": "python",
   "pygments_lexer": "ipython3",
   "version": "3.12.0"
  }
 },
 "nbformat": 4,
 "nbformat_minor": 2
}
